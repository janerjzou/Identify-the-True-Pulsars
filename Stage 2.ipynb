{
 "cells": [
  {
   "cell_type": "code",
   "execution_count": null,
   "metadata": {},
   "outputs": [],
   "source": [
    "import pandas as pd\n",
    "import numpy as np\n",
    "from collections import Counter\n",
    "import random\n",
    "import seaborn as sns\n",
    "from sklearn.decomposition import PCA\n",
    "from sklearn.preprocessing import scale\n",
    "from sklearn.preprocessing import MinMaxScaler\n",
    "\n",
    "from sklearn.model_selection import train_test_split\n",
    "\n",
    "from sklearn.model_selection import GridSearchCV #for best parameters\n",
    "from sklearn.model_selection import cross_val_score\n",
    "from sklearn.model_selection import cross_validate\n",
    "from sklearn import model_selection\n",
    "\n",
    "from sklearn.linear_model import LogisticRegression\n",
    "from sklearn.tree import DecisionTreeClassifier\n",
    "from sklearn.neighbors import KNeighborsClassifier\n",
    "from sklearn.naive_bayes import GaussianNB\n",
    "from sklearn.svm import LinearSVC\n",
    "from sklearn.ensemble import RandomForestClassifier\n",
    "\n",
    "from sklearn.inspection import permutation_importance\n",
    "from sklearn.metrics import confusion_matrix,classification_report,accuracy_score\n",
    "from sklearn.metrics import make_scorer, accuracy_score, precision_score, recall_score, f1_score\n",
    "\n",
    "from scipy.stats import chi2 #for McNemar's test\n",
    "from scipy import stats\n",
    "import time\n",
    "import matplotlib.pyplot as plt\n",
    "\n",
    "import warnings\n",
    "warnings.filterwarnings('ignore')"
   ]
  },
  {
   "cell_type": "code",
   "execution_count": 51,
   "metadata": {
    "scrolled": true
   },
   "outputs": [
    {
     "name": "stdout",
     "output_type": "stream",
     "text": [
      "<class 'pandas.core.frame.DataFrame'>\n",
      "RangeIndex: 17898 entries, 0 to 17897\n",
      "Data columns (total 9 columns):\n",
      " #   Column   Non-Null Count  Dtype  \n",
      "---  ------   --------------  -----  \n",
      " 0   Mean_IP  17898 non-null  float64\n",
      " 1   SD_IP    17898 non-null  float64\n",
      " 2   EK_IP    17898 non-null  float64\n",
      " 3   S_IP     17898 non-null  float64\n",
      " 4   Mean_C   17898 non-null  float64\n",
      " 5   SD_C     17898 non-null  float64\n",
      " 6   EK_C     17898 non-null  float64\n",
      " 7   S_C      17898 non-null  float64\n",
      " 8   Class    17898 non-null  int64  \n",
      "dtypes: float64(8), int64(1)\n",
      "memory usage: 1.2 MB\n"
     ]
    }
   ],
   "source": [
    "# Read Dataset\n",
    "df = pd.read_csv(\"HTRU_2_UCI.csv\",names=[\"Mean_IP\",\"SD_IP\",\"EK_IP\",\"S_IP\",\"Mean_C\",\"SD_C\",\"EK_C\",\"S_C\",\"Class\"])\n",
    "df.info()"
   ]
  },
  {
   "cell_type": "code",
   "execution_count": 52,
   "metadata": {},
   "outputs": [
    {
     "data": {
      "text/html": [
       "<div>\n",
       "<style scoped>\n",
       "    .dataframe tbody tr th:only-of-type {\n",
       "        vertical-align: middle;\n",
       "    }\n",
       "\n",
       "    .dataframe tbody tr th {\n",
       "        vertical-align: top;\n",
       "    }\n",
       "\n",
       "    .dataframe thead th {\n",
       "        text-align: right;\n",
       "    }\n",
       "</style>\n",
       "<table border=\"1\" class=\"dataframe\">\n",
       "  <thead>\n",
       "    <tr style=\"text-align: right;\">\n",
       "      <th></th>\n",
       "      <th>Mean_IP</th>\n",
       "      <th>SD_IP</th>\n",
       "      <th>EK_IP</th>\n",
       "      <th>S_IP</th>\n",
       "      <th>Mean_C</th>\n",
       "      <th>SD_C</th>\n",
       "      <th>EK_C</th>\n",
       "      <th>S_C</th>\n",
       "      <th>Class</th>\n",
       "    </tr>\n",
       "  </thead>\n",
       "  <tbody>\n",
       "    <tr>\n",
       "      <th>0</th>\n",
       "      <td>140.562500</td>\n",
       "      <td>55.683782</td>\n",
       "      <td>-0.234571</td>\n",
       "      <td>-0.699648</td>\n",
       "      <td>3.199833</td>\n",
       "      <td>19.110426</td>\n",
       "      <td>7.975532</td>\n",
       "      <td>74.242225</td>\n",
       "      <td>0</td>\n",
       "    </tr>\n",
       "    <tr>\n",
       "      <th>1</th>\n",
       "      <td>102.507812</td>\n",
       "      <td>58.882430</td>\n",
       "      <td>0.465318</td>\n",
       "      <td>-0.515088</td>\n",
       "      <td>1.677258</td>\n",
       "      <td>14.860146</td>\n",
       "      <td>10.576487</td>\n",
       "      <td>127.393580</td>\n",
       "      <td>0</td>\n",
       "    </tr>\n",
       "    <tr>\n",
       "      <th>2</th>\n",
       "      <td>103.015625</td>\n",
       "      <td>39.341649</td>\n",
       "      <td>0.323328</td>\n",
       "      <td>1.051164</td>\n",
       "      <td>3.121237</td>\n",
       "      <td>21.744669</td>\n",
       "      <td>7.735822</td>\n",
       "      <td>63.171909</td>\n",
       "      <td>0</td>\n",
       "    </tr>\n",
       "  </tbody>\n",
       "</table>\n",
       "</div>"
      ],
      "text/plain": [
       "      Mean_IP      SD_IP     EK_IP      S_IP    Mean_C       SD_C       EK_C  \\\n",
       "0  140.562500  55.683782 -0.234571 -0.699648  3.199833  19.110426   7.975532   \n",
       "1  102.507812  58.882430  0.465318 -0.515088  1.677258  14.860146  10.576487   \n",
       "2  103.015625  39.341649  0.323328  1.051164  3.121237  21.744669   7.735822   \n",
       "\n",
       "          S_C  Class  \n",
       "0   74.242225      0  \n",
       "1  127.393580      0  \n",
       "2   63.171909      0  "
      ]
     },
     "execution_count": 52,
     "metadata": {},
     "output_type": "execute_result"
    }
   ],
   "source": [
    "df.head(3)"
   ]
  },
  {
   "cell_type": "code",
   "execution_count": 53,
   "metadata": {},
   "outputs": [
    {
     "data": {
      "text/html": [
       "<div>\n",
       "<style scoped>\n",
       "    .dataframe tbody tr th:only-of-type {\n",
       "        vertical-align: middle;\n",
       "    }\n",
       "\n",
       "    .dataframe tbody tr th {\n",
       "        vertical-align: top;\n",
       "    }\n",
       "\n",
       "    .dataframe thead th {\n",
       "        text-align: right;\n",
       "    }\n",
       "</style>\n",
       "<table border=\"1\" class=\"dataframe\">\n",
       "  <thead>\n",
       "    <tr style=\"text-align: right;\">\n",
       "      <th></th>\n",
       "      <th>count</th>\n",
       "      <th>mean</th>\n",
       "      <th>std</th>\n",
       "      <th>min</th>\n",
       "      <th>25%</th>\n",
       "      <th>50%</th>\n",
       "      <th>75%</th>\n",
       "      <th>max</th>\n",
       "    </tr>\n",
       "  </thead>\n",
       "  <tbody>\n",
       "    <tr>\n",
       "      <th>Mean_IP</th>\n",
       "      <td>17898.0</td>\n",
       "      <td>111.079968</td>\n",
       "      <td>25.652935</td>\n",
       "      <td>5.812500</td>\n",
       "      <td>100.929688</td>\n",
       "      <td>115.078125</td>\n",
       "      <td>127.085938</td>\n",
       "      <td>192.617188</td>\n",
       "    </tr>\n",
       "    <tr>\n",
       "      <th>SD_IP</th>\n",
       "      <td>17898.0</td>\n",
       "      <td>46.549532</td>\n",
       "      <td>6.843189</td>\n",
       "      <td>24.772042</td>\n",
       "      <td>42.376018</td>\n",
       "      <td>46.947479</td>\n",
       "      <td>51.023202</td>\n",
       "      <td>98.778911</td>\n",
       "    </tr>\n",
       "    <tr>\n",
       "      <th>EK_IP</th>\n",
       "      <td>17898.0</td>\n",
       "      <td>0.477857</td>\n",
       "      <td>1.064040</td>\n",
       "      <td>-1.876011</td>\n",
       "      <td>0.027098</td>\n",
       "      <td>0.223240</td>\n",
       "      <td>0.473325</td>\n",
       "      <td>8.069522</td>\n",
       "    </tr>\n",
       "    <tr>\n",
       "      <th>S_IP</th>\n",
       "      <td>17898.0</td>\n",
       "      <td>1.770279</td>\n",
       "      <td>6.167913</td>\n",
       "      <td>-1.791886</td>\n",
       "      <td>-0.188572</td>\n",
       "      <td>0.198710</td>\n",
       "      <td>0.927783</td>\n",
       "      <td>68.101622</td>\n",
       "    </tr>\n",
       "    <tr>\n",
       "      <th>Mean_C</th>\n",
       "      <td>17898.0</td>\n",
       "      <td>12.614400</td>\n",
       "      <td>29.472897</td>\n",
       "      <td>0.213211</td>\n",
       "      <td>1.923077</td>\n",
       "      <td>2.801839</td>\n",
       "      <td>5.464256</td>\n",
       "      <td>223.392140</td>\n",
       "    </tr>\n",
       "    <tr>\n",
       "      <th>SD_C</th>\n",
       "      <td>17898.0</td>\n",
       "      <td>26.326515</td>\n",
       "      <td>19.470572</td>\n",
       "      <td>7.370432</td>\n",
       "      <td>14.437332</td>\n",
       "      <td>18.461316</td>\n",
       "      <td>28.428104</td>\n",
       "      <td>110.642211</td>\n",
       "    </tr>\n",
       "    <tr>\n",
       "      <th>EK_C</th>\n",
       "      <td>17898.0</td>\n",
       "      <td>8.303556</td>\n",
       "      <td>4.506092</td>\n",
       "      <td>-3.139270</td>\n",
       "      <td>5.781506</td>\n",
       "      <td>8.433515</td>\n",
       "      <td>10.702959</td>\n",
       "      <td>34.539844</td>\n",
       "    </tr>\n",
       "    <tr>\n",
       "      <th>S_C</th>\n",
       "      <td>17898.0</td>\n",
       "      <td>104.857709</td>\n",
       "      <td>106.514540</td>\n",
       "      <td>-1.976976</td>\n",
       "      <td>34.960504</td>\n",
       "      <td>83.064556</td>\n",
       "      <td>139.309331</td>\n",
       "      <td>1191.000837</td>\n",
       "    </tr>\n",
       "    <tr>\n",
       "      <th>Class</th>\n",
       "      <td>17898.0</td>\n",
       "      <td>0.091574</td>\n",
       "      <td>0.288432</td>\n",
       "      <td>0.000000</td>\n",
       "      <td>0.000000</td>\n",
       "      <td>0.000000</td>\n",
       "      <td>0.000000</td>\n",
       "      <td>1.000000</td>\n",
       "    </tr>\n",
       "  </tbody>\n",
       "</table>\n",
       "</div>"
      ],
      "text/plain": [
       "           count        mean         std        min         25%         50%  \\\n",
       "Mean_IP  17898.0  111.079968   25.652935   5.812500  100.929688  115.078125   \n",
       "SD_IP    17898.0   46.549532    6.843189  24.772042   42.376018   46.947479   \n",
       "EK_IP    17898.0    0.477857    1.064040  -1.876011    0.027098    0.223240   \n",
       "S_IP     17898.0    1.770279    6.167913  -1.791886   -0.188572    0.198710   \n",
       "Mean_C   17898.0   12.614400   29.472897   0.213211    1.923077    2.801839   \n",
       "SD_C     17898.0   26.326515   19.470572   7.370432   14.437332   18.461316   \n",
       "EK_C     17898.0    8.303556    4.506092  -3.139270    5.781506    8.433515   \n",
       "S_C      17898.0  104.857709  106.514540  -1.976976   34.960504   83.064556   \n",
       "Class    17898.0    0.091574    0.288432   0.000000    0.000000    0.000000   \n",
       "\n",
       "                75%          max  \n",
       "Mean_IP  127.085938   192.617188  \n",
       "SD_IP     51.023202    98.778911  \n",
       "EK_IP      0.473325     8.069522  \n",
       "S_IP       0.927783    68.101622  \n",
       "Mean_C     5.464256   223.392140  \n",
       "SD_C      28.428104   110.642211  \n",
       "EK_C      10.702959    34.539844  \n",
       "S_C      139.309331  1191.000837  \n",
       "Class      0.000000     1.000000  "
      ]
     },
     "execution_count": 53,
     "metadata": {},
     "output_type": "execute_result"
    }
   ],
   "source": [
    "# Original Dataset Statistics Summary\n",
    "df.describe().T"
   ]
  },
  {
   "cell_type": "code",
   "execution_count": 54,
   "metadata": {},
   "outputs": [
    {
     "data": {
      "text/plain": [
       "Mean_IP    0\n",
       "SD_IP      0\n",
       "EK_IP      0\n",
       "S_IP       0\n",
       "Mean_C     0\n",
       "SD_C       0\n",
       "EK_C       0\n",
       "S_C        0\n",
       "Class      0\n",
       "dtype: int64"
      ]
     },
     "execution_count": 54,
     "metadata": {},
     "output_type": "execute_result"
    }
   ],
   "source": [
    "# Check missing values\n",
    "df.isna().sum() "
   ]
  },
  {
   "cell_type": "code",
   "execution_count": 55,
   "metadata": {},
   "outputs": [
    {
     "data": {
      "text/plain": [
       "0"
      ]
     },
     "execution_count": 55,
     "metadata": {},
     "output_type": "execute_result"
    }
   ],
   "source": [
    "# Check duplicated records\n",
    "df.duplicated().sum()"
   ]
  },
  {
   "cell_type": "code",
   "execution_count": 56,
   "metadata": {},
   "outputs": [
    {
     "data": {
      "text/plain": [
       "<AxesSubplot:>"
      ]
     },
     "execution_count": 56,
     "metadata": {},
     "output_type": "execute_result"
    },
    {
     "data": {
      "image/png": "[encoded data removed]",
      "text/plain": [
       "<Figure size 432x288 with 2 Axes>"
      ]
     },
     "metadata": {
      "needs_background": "light"
     },
     "output_type": "display_data"
    }
   ],
   "source": [
    "#correlation between features and class\n",
    "corr = df.corr()\n",
    "sns.heatmap(data=corr,annot=True,cmap=\"YlGnBu\",linewidths=1,fmt=\".2f\")"
   ]
  },
  {
   "cell_type": "code",
   "execution_count": 11,
   "metadata": {},
   "outputs": [
    {
     "name": "stdout",
     "output_type": "stream",
     "text": [
      "True pulsar: 1639\n",
      "Fake pulsar: 16259\n",
      "True pulsar in this dataset: 10.08%\n"
     ]
    }
   ],
   "source": [
    "#Counter(df['Class'])\n",
    "\n",
    "print(\"True pulsar:\",Counter(df['Class'])[1])\n",
    "print(\"Fake pulsar:\",Counter(df['Class'])[0])\n",
    "print(\"True pulsar in this dataset: \"+str(round(Counter(df['Class'])[1] / Counter(df['Class'])[0]*100,2))+\"%\" )"
   ]
  },
  {
   "cell_type": "code",
   "execution_count": 110,
   "metadata": {},
   "outputs": [
    {
     "name": "stdout",
     "output_type": "stream",
     "text": [
      "IQR score:\n",
      "Mean_IP     26.16\n",
      "SD_IP        8.65\n",
      "EK_IP        0.45\n",
      "S_IP         1.12\n",
      "Mean_C       3.54\n",
      "SD_C        13.99\n",
      "EK_C         4.92\n",
      "S_C        104.35\n",
      "Class        0.00\n",
      "dtype: float64\n",
      "\n",
      "Number of outliers:\n",
      "Mean_IP    1030\n",
      "SD_IP       262\n",
      "EK_IP      1589\n",
      "S_IP       1894\n",
      "Mean_C     2927\n",
      "SD_C       2346\n",
      "EK_C        488\n",
      "S_C         901\n",
      "Class      1639\n",
      "dtype: int64\n",
      "\n",
      "Percentage of outliers: % \n",
      "Mean_IP     5.75\n",
      "SD_IP       1.46\n",
      "EK_IP       8.88\n",
      "S_IP       10.58\n",
      "Mean_C     16.35\n",
      "SD_C       13.11\n",
      "EK_C        2.73\n",
      "S_C         5.03\n",
      "Class       9.16\n",
      "dtype: float64\n"
     ]
    }
   ],
   "source": [
    "# Check outliers\n",
    "Q1 = df.quantile(0.25)\n",
    "Q3 = df.quantile(0.75)\n",
    "IQR = round((Q3 - Q1),2)\n",
    "print(\"IQR score:\")\n",
    "print(IQR)\n",
    "\n",
    "# lower = Q1 - (1.5 * IQR)    # upper = Q3 + (1.5 * IQR)\n",
    "\n",
    "no_outliers = ((df < (Q1 - (1.5 * IQR))) | (df > ( Q3 + (1.5 * IQR)))).sum()\n",
    "print(\"\\nNumber of outliers:\")\n",
    "print(no_outliers)\n",
    "\n",
    "\n",
    "per_outliers = round(100* (no_outliers / len(df)),2)\n",
    "print(\"\\nPercentage of outliers: % \")\n",
    "print(per_outliers)\n"
   ]
  },
  {
   "cell_type": "code",
   "execution_count": 231,
   "metadata": {},
   "outputs": [
    {
     "data": {
      "text/plain": [
       "array([<AxesSubplot:title={'center':'Mean_C'}, xlabel='Class'>,\n",
       "       <AxesSubplot:title={'center':'SD_C'}, xlabel='Class'>],\n",
       "      dtype=object)"
      ]
     },
     "execution_count": 231,
     "metadata": {},
     "output_type": "execute_result"
    },
    {
     "data": {
      "image/png": "[encoded data removed]",
      "text/plain": [
       "<Figure size 432x288 with 2 Axes>"
      ]
     },
     "metadata": {
      "needs_background": "light"
     },
     "output_type": "display_data"
    }
   ],
   "source": [
    "df.boxplot(column=(\"Mean_C\",\"SD_C\"),by=\"Class\")"
   ]
  },
  {
   "cell_type": "code",
   "execution_count": 114,
   "metadata": {},
   "outputs": [],
   "source": [
    "df = df.astype({\"Class\":str}) \n",
    "\n",
    "features = df.drop(\"Class\",axis=1)  # (17898, 8)\n",
    "\n",
    "label = np.array(df['Class']).reshape(-1, ) # (17898,)"
   ]
  },
  {
   "cell_type": "code",
   "execution_count": 16,
   "metadata": {},
   "outputs": [
    {
     "name": "stdout",
     "output_type": "stream",
     "text": [
      "[0.8711 0.9493 0.9905 0.9967 0.9991 1.0001 1.0001 1.0001]\n"
     ]
    },
    {
     "data": {
      "image/png": "[encoded data removed]",
      "text/plain": [
       "<Figure size 432x288 with 1 Axes>"
      ]
     },
     "metadata": {
      "needs_background": "light"
     },
     "output_type": "display_data"
    }
   ],
   "source": [
    "pca= PCA()\n",
    "#dt = scale(features)\n",
    "df_pca = pca.fit_transform(features)\n",
    "var = np.cumsum(np.round(pca.explained_variance_ratio_, decimals=4))\n",
    "print(var)\n",
    "\n",
    "plt.ylabel(\"% Variance Explained\")\n",
    "plt.xlabel(\"Number of Features\")\n",
    "plt.title(\"PCA Analysis\")\n",
    "plt.plot(var)\n",
    "plt.show()"
   ]
  },
  {
   "cell_type": "code",
   "execution_count": 149,
   "metadata": {},
   "outputs": [
    {
     "data": {
      "text/plain": [
       "((10022, 8), (4296, 8), (3580, 8), (10022,), (4296,), (3580,))"
      ]
     },
     "execution_count": 149,
     "metadata": {},
     "output_type": "execute_result"
    }
   ],
   "source": [
    "#X_td/X_test is training / held-out test data\n",
    "X_td, X_test, y_td, y_test = train_test_split(features, label, test_size=0.2,random_state=1) # so we get the same results\n",
    "\n",
    "# split X_td to training part and development part\n",
    "X_train, X_dev, y_train, y_dev = train_test_split(X_td, y_td, test_size=0.3, random_state=1)\n",
    "\n",
    "\n",
    "X_train.shape, X_dev.shape, X_test.shape,  y_train.shape, y_dev.shape, y_test.shape"
   ]
  },
  {
   "cell_type": "code",
   "execution_count": 150,
   "metadata": {},
   "outputs": [
    {
     "name": "stdout",
     "output_type": "stream",
     "text": [
      "True pulsar in Train set: 10.24%\n",
      "True pulsar in Validation set: 9.7%\n",
      "True pulsar in Test set: 10.09%\n"
     ]
    }
   ],
   "source": [
    "# Check class balance\n",
    "print(\"True pulsar in Train set: \"+str(round(Counter(y_train)['1'] / Counter(y_train)['0']*100,2))+\"%\" )\n",
    "print(\"True pulsar in Validation set: \"+str(round(Counter(y_dev)['1'] / Counter(y_dev)['0']*100,2))+\"%\" )\n",
    "print(\"True pulsar in Test set: \"+str(round(Counter(y_test)['1'] / Counter(y_test)['0']*100,2))+\"%\" )"
   ]
  },
  {
   "cell_type": "code",
   "execution_count": 151,
   "metadata": {},
   "outputs": [],
   "source": [
    "# Normalisation\n",
    "minmaxscale = MinMaxScaler(feature_range=(0,1)).fit(X_train)\n",
    "\n",
    "X_train = pd.DataFrame(minmaxscale.transform(X_train),columns=features.columns)\n",
    "X_dev = pd.DataFrame(minmaxscale.transform(X_dev),columns=features.columns)\n",
    "X_test = pd.DataFrame(minmaxscale.transform(X_test),columns=features.columns)\n"
   ]
  },
  {
   "cell_type": "code",
   "execution_count": 156,
   "metadata": {},
   "outputs": [
    {
     "name": "stdout",
     "output_type": "stream",
     "text": [
      "Best parameters: {'criterion': 'gini', 'max_depth': 30, 'max_features': 'log2', 'n_estimators': 30}\n",
      "\n",
      "Classification report of validation set:\n",
      "              precision    recall  f1-score   support\n",
      "\n",
      "           0       0.98      0.99      0.99      3916\n",
      "           1       0.94      0.82      0.87       380\n",
      "\n",
      "    accuracy                           0.98      4296\n",
      "   macro avg       0.96      0.91      0.93      4296\n",
      "weighted avg       0.98      0.98      0.98      4296\n",
      "\n"
     ]
    }
   ],
   "source": [
    "# Fine tuining for Random Forest model\n",
    "param_rf = [{'criterion':['entropy', 'gini'],\n",
    "          'max_depth':[6,8,10,15,20,30],\n",
    "          'max_features' : [\"auto\", \"sqrt\", \"log2\"],\n",
    "          'n_estimators':[20,30,50]}]\n",
    "f1 = make_scorer(f1_score, pos_label='1', average='binary')\n",
    "rf_cv = GridSearchCV(RandomForestClassifier(class_weight='balanced'), param_rf, scoring=f1, cv = 10)\n",
    "rf_cv.fit(X_train, y_train)\n",
    "\n",
    "print('Best parameters:',rf_cv.best_params_)\n",
    "print('\\nClassification report of validation set:')\n",
    "print(classification_report(y_dev, rf_cv.predict(X_dev)))"
   ]
  },
  {
   "cell_type": "code",
   "execution_count": 217,
   "metadata": {},
   "outputs": [
    {
     "name": "stdout",
     "output_type": "stream",
     "text": [
      "Best parameters: {'max_iter': 25, 'multi_class': 'multinomial', 'penalty': 'l1', 'solver': 'saga'}\n",
      "\n",
      "Classification report of validation set:\n",
      "              precision    recall  f1-score   support\n",
      "\n",
      "           0       0.99      0.98      0.98      3916\n",
      "           1       0.79      0.88      0.83       380\n",
      "\n",
      "    accuracy                           0.97      4296\n",
      "   macro avg       0.89      0.93      0.91      4296\n",
      "weighted avg       0.97      0.97      0.97      4296\n",
      "\n"
     ]
    }
   ],
   "source": [
    "# Fine tuining for Logistic Regression model\n",
    "param_lr = [{'max_iter':[2,4,6,8,10,25],\n",
    "            'multi_class':['auto', 'ovr', 'multinomial'],\n",
    "            'solver':['newton-cg', 'lbfgs', 'liblinear', 'sag', 'saga'],\n",
    "            'penalty':['l1', 'l2', 'elasticnet']}]\n",
    "f1 = make_scorer(f1_score, pos_label='1', average='binary')\n",
    "lr_cv = GridSearchCV(LogisticRegression(class_weight='balanced'), param_lr,  scoring=f1, cv = 10)\n",
    "lr_cv.fit(X_train, y_train)\n",
    "\n",
    "print('Best parameters:',lr_cv.best_params_)\n",
    "print('\\nClassification report of validation set:')\n",
    "print(classification_report(y_dev, lr_cv.predict(X_dev)))"
   ]
  },
  {
   "cell_type": "code",
   "execution_count": 158,
   "metadata": {},
   "outputs": [
    {
     "name": "stdout",
     "output_type": "stream",
     "text": [
      "Best parameters: {'algorithm': 'auto', 'n_neighbors': 7, 'weights': 'distance'}\n",
      "\n",
      "Classification report of validation data:\n",
      "              precision    recall  f1-score   support\n",
      "\n",
      "           0       0.98      1.00      0.99      3916\n",
      "           1       0.94      0.80      0.87       380\n",
      "\n",
      "    accuracy                           0.98      4296\n",
      "   macro avg       0.96      0.90      0.93      4296\n",
      "weighted avg       0.98      0.98      0.98      4296\n",
      "\n"
     ]
    }
   ],
   "source": [
    "# Fine tuining for KNN model\n",
    "param_knn = [{'n_neighbors':[3,5,7,9,11],\n",
    "               'algorithm':['auto', 'ball_tree', 'kd_tree', 'brute'], \n",
    "               'weights':['uniform', 'distance']}]\n",
    "f1 = make_scorer(f1_score, pos_label='1', average='binary')\n",
    "knn_cv = GridSearchCV(KNeighborsClassifier(), param_knn, scoring=f1, cv = 10)\n",
    "knn_cv.fit(X_train, y_train)\n",
    "\n",
    "print('Best parameters:',knn_cv.best_params_)\n",
    "print('\\nClassification report of validation data:')\n",
    "print(classification_report(y_dev, knn_cv.predict(X_dev)))"
   ]
  },
  {
   "cell_type": "code",
   "execution_count": 159,
   "metadata": {
    "scrolled": true
   },
   "outputs": [
    {
     "name": "stdout",
     "output_type": "stream",
     "text": [
      "Best parameters: {'C': 100, 'loss': 'squared_hinge', 'penalty': 'l2'}\n",
      "\n",
      "Classification report of validation data:\n",
      "              precision    recall  f1-score   support\n",
      "\n",
      "           0       0.99      0.99      0.99      3916\n",
      "           1       0.89      0.87      0.88       380\n",
      "\n",
      "    accuracy                           0.98      4296\n",
      "   macro avg       0.94      0.93      0.93      4296\n",
      "weighted avg       0.98      0.98      0.98      4296\n",
      "\n"
     ]
    }
   ],
   "source": [
    "# Fine tuining for LinearSVC model\n",
    "param_svc = [{'penalty':['l1', 'l2'],\n",
    "               'loss':['hinge', 'squared_hinge'], \n",
    "               'C':[0.01,0.1,1,10,100]}]\n",
    "f1 = make_scorer(f1_score, pos_label='1', average='binary')\n",
    "svc_cv = GridSearchCV(LinearSVC(class_weight ='balanced'), param_svc, scoring=f1, cv = 10)\n",
    "svc_cv.fit(X_train, y_train)\n",
    "\n",
    "print('Best parameters:',svc_cv.best_params_)\n",
    "print('\\nClassification report of validation data:')\n",
    "print(classification_report(y_dev, svc_cv.predict(X_dev)))"
   ]
  },
  {
   "cell_type": "code",
   "execution_count": 153,
   "metadata": {},
   "outputs": [
    {
     "name": "stdout",
     "output_type": "stream",
     "text": [
      "Classification report of validation data:\n",
      "              precision    recall  f1-score   support\n",
      "\n",
      "           0       0.98      0.96      0.97      3916\n",
      "           1       0.65      0.84      0.73       380\n",
      "\n",
      "    accuracy                           0.95      4296\n",
      "   macro avg       0.82      0.90      0.85      4296\n",
      "weighted avg       0.95      0.95      0.95      4296\n",
      "\n"
     ]
    }
   ],
   "source": [
    "# Naive Bayes\n",
    "# Naive Bayes without fine tuning\n",
    "nb = GaussianNB() # the depth of the tree\n",
    "_ = nb.fit(X_train, y_train)\n",
    "\n",
    "# Evaluate\n",
    "print('Classification report of validation data:')\n",
    "print(classification_report(y_dev, nb.predict(X_dev)))"
   ]
  },
  {
   "cell_type": "code",
   "execution_count": 154,
   "metadata": {},
   "outputs": [
    {
     "data": {
      "text/html": [
       "<div>\n",
       "<style scoped>\n",
       "    .dataframe tbody tr th:only-of-type {\n",
       "        vertical-align: middle;\n",
       "    }\n",
       "\n",
       "    .dataframe tbody tr th {\n",
       "        vertical-align: top;\n",
       "    }\n",
       "\n",
       "    .dataframe thead th {\n",
       "        text-align: right;\n",
       "    }\n",
       "</style>\n",
       "<table border=\"1\" class=\"dataframe\">\n",
       "  <thead>\n",
       "    <tr style=\"text-align: right;\">\n",
       "      <th></th>\n",
       "      <th>importance</th>\n",
       "    </tr>\n",
       "    <tr>\n",
       "      <th>feature</th>\n",
       "      <th></th>\n",
       "    </tr>\n",
       "  </thead>\n",
       "  <tbody>\n",
       "    <tr>\n",
       "      <th>EK_IP</th>\n",
       "      <td>0.053263</td>\n",
       "    </tr>\n",
       "    <tr>\n",
       "      <th>S_IP</th>\n",
       "      <td>0.051128</td>\n",
       "    </tr>\n",
       "    <tr>\n",
       "      <th>Mean_IP</th>\n",
       "      <td>0.012971</td>\n",
       "    </tr>\n",
       "    <tr>\n",
       "      <th>SD_IP</th>\n",
       "      <td>-0.000519</td>\n",
       "    </tr>\n",
       "    <tr>\n",
       "      <th>S_C</th>\n",
       "      <td>-0.006107</td>\n",
       "    </tr>\n",
       "  </tbody>\n",
       "</table>\n",
       "</div>"
      ],
      "text/plain": [
       "         importance\n",
       "feature            \n",
       "EK_IP      0.053263\n",
       "S_IP       0.051128\n",
       "Mean_IP    0.012971\n",
       "SD_IP     -0.000519\n",
       "S_C       -0.006107"
      ]
     },
     "execution_count": 154,
     "metadata": {},
     "output_type": "execute_result"
    }
   ],
   "source": [
    "#feature importance - NB\n",
    "\n",
    "important = permutation_importance(nb, X_train,y_train, scoring=\"accuracy\")\n",
    "imp = important.importances_mean\n",
    "importances = pd.DataFrame({'feature':X_train.columns, 'importance':imp})\n",
    "importances = importances.sort_values('importance', ascending=False).set_index('feature')\n",
    "importances.head()"
   ]
  },
  {
   "cell_type": "code",
   "execution_count": 155,
   "metadata": {},
   "outputs": [
    {
     "data": {
      "text/plain": [
       "<AxesSubplot:ylabel='feature'>"
      ]
     },
     "execution_count": 155,
     "metadata": {},
     "output_type": "execute_result"
    },
    {
     "data": {
      "image/png": "[encoded data removed]",
      "text/plain": [
       "<Figure size 432x288 with 1 Axes>"
      ]
     },
     "metadata": {
      "needs_background": "light"
     },
     "output_type": "display_data"
    }
   ],
   "source": [
    "importances.plot.barh()"
   ]
  },
  {
   "cell_type": "code",
   "execution_count": null,
   "metadata": {},
   "outputs": [],
   "source": []
  },
  {
   "cell_type": "code",
   "execution_count": 222,
   "metadata": {},
   "outputs": [
    {
     "name": "stdout",
     "output_type": "stream",
     "text": [
      "[0.98044693 0.98324022 0.98324022 0.96368715 0.97486034 0.98603352\n",
      " 0.98044693 0.96648045 0.98603352 0.98044693] [0.96089385 0.97206704 0.97486034 0.95251397 0.97486034 0.97206704\n",
      " 0.97765363 0.96368715 0.96927374 0.97206704] [0.97206704 0.97765363 0.98044693 0.96648045 0.97486034 0.98603352\n",
      " 0.98882682 0.96927374 0.97486034 0.97486034] [0.98044693 0.98603352 0.97765363 0.96648045 0.98324022 0.98882682\n",
      " 0.58659218 0.96648045 0.97486034 0.97486034] [0.93575419 0.95530726 0.95251397 0.94413408 0.94972067 0.95251397\n",
      " 0.93575419 0.93575419 0.95251397 0.95530726]\n",
      "2356.340786218643\n"
     ]
    }
   ],
   "source": [
    "# F1 score of each model for 10 folds  -- TEST data\n",
    "start = time.time()\n",
    "rf_f1 = cross_val_score(rf_cv, X_test, y_test, cv=10, scoring='f1_micro') #benchmark model\n",
    "lr_f1 = cross_val_score(lr_cv, X_test, y_test, cv=10, scoring='f1_micro')\n",
    "knn_f1 = cross_val_score(knn_cv, X_test, y_test, cv=10, scoring='f1_micro')\n",
    "svc_f1 = cross_val_score(svc_cv, X_test, y_test, cv=10, scoring='f1_micro')\n",
    "nb_f1 = cross_val_score(nb, X_test, y_test, cv=10, scoring='f1_micro')\n",
    "end = time.time()-start\n",
    "\n",
    "print(rf_f1, lr_f1, knn_f1, svc_f1, nb_f1)\n",
    "print(end) # time"
   ]
  },
  {
   "cell_type": "code",
   "execution_count": 241,
   "metadata": {
    "scrolled": true
   },
   "outputs": [
    {
     "data": {
      "text/plain": [
       "(0.9785, 0.969, 0.9765, 0.9385, 0.9469)"
      ]
     },
     "execution_count": 241,
     "metadata": {},
     "output_type": "execute_result"
    }
   ],
   "source": [
    "# Average F1-score\n",
    "\n",
    "round(np.mean(rf_f1),4), round(np.mean(lr_f1),4), round(np.mean(knn_f1),4), round(np.mean(svc_f1),4), round(np.mean(nb_f1),4)\n",
    "\n",
    "# The RandomForest model has the highest average F1-score."
   ]
  },
  {
   "cell_type": "code",
   "execution_count": 224,
   "metadata": {},
   "outputs": [],
   "source": [
    "# Compute the Kruskal-Wallis H-test for independent samples. For >=10 observation\n",
    "\n",
    "lr_rf_f1 = stats.kruskal(rf_f1, lr_f1)\n",
    "knn_rf_f1 = stats.kruskal(rf_f1, knn_f1)\n",
    "svc_rf_f1 = stats.kruskal(rf_f1, svc_f1)\n",
    "nb_rf_f1 = stats.kruskal(rf_f1, nb_f1)\n"
   ]
  },
  {
   "cell_type": "code",
   "execution_count": 225,
   "metadata": {},
   "outputs": [],
   "source": [
    "# Determine whether to reject or accept H0\n",
    "\n",
    "def reject_accept(score):\n",
    "    alpha = 0.05\n",
    "    print(\"Pvalue is:\",round(score,5))\n",
    "    if score > alpha:\n",
    "        print(\"Accept H0, There is no difference.\")\n",
    "    else:\n",
    "        print(\"Reject H0, They are significantly different.\")"
   ]
  },
  {
   "cell_type": "code",
   "execution_count": 236,
   "metadata": {
    "scrolled": true
   },
   "outputs": [
    {
     "name": "stdout",
     "output_type": "stream",
     "text": [
      "Logistic Regression VS Random Forest\n",
      "Pvalue is: 0.01087\n",
      "Reject H0, They are significantly different.\n",
      "\n",
      "KNN VS Random Forest\n",
      "Pvalue is: 0.42278\n",
      "Accept H0, There is no difference.\n",
      "\n",
      "SVM VS Random Forest\n",
      "Pvalue is: 0.51639\n",
      "Accept H0, There is no difference.\n",
      "\n",
      "Naive Bayes VS Random Forest\n",
      "Pvalue is: 0.00014\n",
      "Reject H0, They are significantly different.\n"
     ]
    }
   ],
   "source": [
    "print(\"Logistic Regression VS Random Forest\")\n",
    "reject_accept(lr_rf_f1[1])\n",
    "\n",
    "print(\"\\nKNN VS Random Forest\")\n",
    "reject_accept(knn_rf_f1[1])\n",
    "\n",
    "print(\"\\nSVM VS Random Forest\")\n",
    "reject_accept(svc_rf_f1[1])\n",
    "\n",
    "print(\"\\nNaive Bayes VS Random Forest\")\n",
    "reject_accept(nb_rf_f1[1])"
   ]
  },
  {
   "cell_type": "code",
   "execution_count": 227,
   "metadata": {},
   "outputs": [
    {
     "name": "stdout",
     "output_type": "stream",
     "text": [
      "[0.97765363 0.98324022 0.98324022 0.96648045 0.97486034 0.98603352\n",
      " 0.98882682 0.97206704 0.98603352 0.97765363] [0.96089385 0.95810056 0.97486034 0.96648045 0.96648045 0.95251397\n",
      " 0.97486034 0.96368715 0.96927374 0.96089385] [0.97206704 0.97765363 0.98044693 0.96648045 0.97486034 0.98603352\n",
      " 0.98882682 0.96927374 0.97486034 0.97486034] [0.98044693 0.98324022 0.97765363 0.96089385 0.98324022 0.98603352\n",
      " 0.94972067 0.96368715 0.96927374 0.97206704] [0.93575419 0.95530726 0.95251397 0.94413408 0.94972067 0.95251397\n",
      " 0.93575419 0.93575419 0.95251397 0.95530726]\n",
      "2628.3023459911346 s\n"
     ]
    }
   ],
   "source": [
    "# Accuracy of each model for 10 folds  -- TEST data\n",
    "start = time.time()\n",
    "\n",
    "rf_acc = cross_val_score(rf_cv, X_test, y_test, cv=10, scoring='accuracy') #benchmark model\n",
    "lr_acc = cross_val_score(lr_cv, X_test, y_test, cv=10, scoring='accuracy')\n",
    "knn_acc = cross_val_score(knn_cv, X_test, y_test, cv=10, scoring='accuracy')\n",
    "svc_acc = cross_val_score(svc_cv, X_test, y_test, cv=10, scoring='accuracy')\n",
    "nb_acc = cross_val_score(nb, X_test, y_test, cv=10, scoring='accuracy')\n",
    "end = time.time()-start\n",
    "\n",
    "print(rf_acc, lr_acc, knn_acc, svc_acc, nb_acc)\n",
    "print(end,\"s\")"
   ]
  },
  {
   "cell_type": "code",
   "execution_count": 237,
   "metadata": {},
   "outputs": [
    {
     "data": {
      "text/plain": [
       "(0.9796, 0.9648, 0.9765, 0.9726, 0.9469)"
      ]
     },
     "execution_count": 237,
     "metadata": {},
     "output_type": "execute_result"
    }
   ],
   "source": [
    "# Average accuracy on TEST data\n",
    "\n",
    "round(np.mean(rf_acc),4), round(np.mean(lr_acc),4), round(np.mean(knn_acc),4), round(np.mean(svc_acc),4), round(np.mean(nb_acc),4)\n",
    "\n",
    "\n",
    "# The Random Forest model has the highest average accuracy."
   ]
  },
  {
   "cell_type": "code",
   "execution_count": 229,
   "metadata": {},
   "outputs": [],
   "source": [
    "# Compute the Kruskal-Wallis H-test for independent samples. For >=10 observation\n",
    "\n",
    "lr_rf_acc = stats.kruskal(rf_acc, lr_acc)\n",
    "knn_rf_acc = stats.kruskal(rf_acc, knn_acc)\n",
    "svc_rf_acc = stats.kruskal(rf_acc, svc_acc)\n",
    "nb_rf_acc = stats.kruskal(rf_acc, nb_acc)"
   ]
  },
  {
   "cell_type": "code",
   "execution_count": 230,
   "metadata": {},
   "outputs": [
    {
     "name": "stdout",
     "output_type": "stream",
     "text": [
      "Decision Tree VS Random Forest\n",
      "Pvalue is: 0.00109\n",
      "Reject H0, They are significantly different.\n",
      "\n",
      "KNN VS Random Forest\n",
      "Pvalue is: 0.32172\n",
      "Accept H0, There is no difference.\n",
      "\n",
      "SVM VS Random Forest\n",
      "Pvalue is: 0.15896\n",
      "Accept H0, There is no difference.\n",
      "\n",
      "Naive Bayes VS Random Forest\n",
      "Pvalue is: 0.00015\n",
      "Reject H0, They are significantly different.\n"
     ]
    }
   ],
   "source": [
    "print(\"Decision Tree VS Random Forest\")\n",
    "reject_accept(lr_rf_acc[1])\n",
    "\n",
    "print(\"\\nKNN VS Random Forest\")\n",
    "reject_accept(knn_rf_acc[1])\n",
    "\n",
    "print(\"\\nSVM VS Random Forest\")\n",
    "reject_accept(svc_rf_acc[1])\n",
    "\n",
    "print(\"\\nNaive Bayes VS Random Forest\")\n",
    "reject_accept(nb_rf_acc[1])"
   ]
  },
  {
   "cell_type": "code",
   "execution_count": 256,
   "metadata": {},
   "outputs": [
    {
     "name": "stdout",
     "output_type": "stream",
     "text": [
      "\n",
      "Classification report of test data:\n",
      "              precision    recall  f1-score   support\n",
      "\n",
      "           0       0.98      1.00      0.99      3916\n",
      "           1       0.95      0.81      0.87       380\n",
      "\n",
      "    accuracy                           0.98      4296\n",
      "   macro avg       0.96      0.90      0.93      4296\n",
      "weighted avg       0.98      0.98      0.98      4296\n",
      "\n",
      "TIME: 1.39 s\n"
     ]
    }
   ],
   "source": [
    "# final model - Random Forest\n",
    "st = time.time()\n",
    "rf = RandomForestClassifier(class_weight='balanced',\n",
    "                            criterion='gini', \n",
    "                            max_depth=30, \n",
    "                            max_features= 'log2', \n",
    "                            n_estimators=30)\n",
    "_ = rf.fit(X_train,y_train)\n",
    "rf_result = rf.predict(X_test)\n",
    "print('\\nClassification report of test data:')\n",
    "print(classification_report(y_dev, rf.predict(X_dev)))\n",
    "end = round((time.time() - st),3)\n",
    "print(\"TIME:\",end,'s')"
   ]
  },
  {
   "cell_type": "code",
   "execution_count": null,
   "metadata": {},
   "outputs": [],
   "source": []
  },
  {
   "cell_type": "code",
   "execution_count": null,
   "metadata": {},
   "outputs": [],
   "source": []
  },
  {
   "cell_type": "code",
   "execution_count": null,
   "metadata": {},
   "outputs": [],
   "source": []
  },
  {
   "cell_type": "code",
   "execution_count": null,
   "metadata": {},
   "outputs": [],
   "source": []
  }
 ],
 "metadata": {
  "kernelspec": {
   "display_name": "Python 3 (ipykernel)",
   "language": "python",
   "name": "python3"
  },
  "language_info": {
   "codemirror_mode": {
    "name": "ipython",
    "version": 3
   },
   "file_extension": ".py",
   "mimetype": "text/x-python",
   "name": "python",
   "nbconvert_exporter": "python",
   "pygments_lexer": "ipython3",
   "version": "3.8.11"
  }
 },
 "nbformat": 4,
 "nbformat_minor": 4
}
